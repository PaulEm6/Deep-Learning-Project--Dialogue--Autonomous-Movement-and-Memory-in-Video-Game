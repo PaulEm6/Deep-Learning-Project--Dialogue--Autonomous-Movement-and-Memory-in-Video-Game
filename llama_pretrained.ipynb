{
  "cells": [
    {
      "cell_type": "code",
      "execution_count": 7,
      "id": "6d7aa6ff-b1a8-4306-8ebb-14fa3c697b54",
      "metadata": {
        "tags": [],
        "id": "6d7aa6ff-b1a8-4306-8ebb-14fa3c697b54"
      },
      "outputs": [],
      "source": [
        "import json\n",
        "import re\n",
        "from pprint import pprint\n",
        "\n",
        "import pandas as pd\n",
        "import torch\n",
        "from datasets import Dataset, load_dataset\n",
        "from huggingface_hub import notebook_login\n",
        "from peft import LoraConfig, PeftModel\n",
        "from transformers import (\n",
        "    AutoModelForCausalLM,\n",
        "    AutoTokenizer,\n",
        "    BitsAndBytesConfig,\n",
        "    TrainingArguments,\n",
        ")\n",
        "from trl import SFTTrainer\n",
        "\n",
        "DEVICE = \"cuda:0\" if torch.cuda.is_available() else \"cpu\"\n",
        "MODEL_NAME = \"meta-llama/Llama-2-7b-hf\""
      ]
    },
    {
      "cell_type": "code",
      "source": [
        "# Define the NPC dataset structure\n",
        "npc_dataset = {\n",
        "    \"train\": [\n",
        "        {\"npc1 dialogue\": \"Hi, I'm Sarah. I just moved into the building yesterday.\",\n",
        "         \"npc2 dialogue\": \"Oh, nice to meet you, Sarah! I'm James. Welcome to the building. How was your move-in?\"},\n",
        "        {\"npc1 dialogue\": \"It was hectic but exciting. Still getting used to the new place.\",\n",
        "         \"npc2 dialogue\": \"Well, if you need anything, feel free to ask. We're all pretty friendly around here.\"},\n",
        "        {\"npc1 dialogue\": \"Thanks, James. That's good to know. Have you been living here for long?\",\n",
        "         \"npc2 dialogue\": \"Yeah, I've been here for about a year now. It's a nice community, everyone gets along pretty well.\"},\n",
        "        {\"npc1 dialogue\": \"That's great to hear. I'm looking forward to getting to know everyone.\",\n",
        "         \"npc2 dialogue\": \"Definitely. We have a little get-together in the common area every Friday evening. You should come by sometime.\"},\n",
        "        {\"npc1 dialogue\": \"So, what's there to do around here?\",\n",
        "         \"npc2 dialogue\": \"Well, there's a nice park nearby where people usually go for walks or picnics. And there are a few cafes and restaurants within walking distance.\"},\n",
        "        {\"npc1 dialogue\": \"Sounds lovely. I'll have to check them out. By the way, do you know if there's a gym around here?\",\n",
        "         \"npc2 dialogue\": \"Yeah, there's a gym a couple of blocks away. It's pretty decent, I go there sometimes after work.\"},\n",
        "        {\"npc1 dialogue\": \"Great, I'll have to sign up. I'm trying to get back into shape.\",\n",
        "         \"npc2 dialogue\": \"That's awesome. If you want, I can show you around the neighborhood sometime.\"},\n",
        "        {\"npc1 dialogue\": \"I'd appreciate that, thanks! Oh, speaking of which, do you have any plans for today?\",\n",
        "         \"npc2 dialogue\": \"Not really, just catching up on some studying. Why?\"},\n",
        "        {\"npc1 dialogue\": \"I was thinking of exploring the neighborhood. Want to join?\",\n",
        "         \"npc2 dialogue\": \"Sounds like a plan. Let me grab my keys.\"},\n",
        "        {\"npc1 dialogue\": \"Hey James, do you enjoy reading? I'm always looking for book recommendations.\",\n",
        "         \"npc2 dialogue\": \"Absolutely! I'm a big fan of fantasy novels. Have you read 'The Name of the Wind' by Patrick Rothfuss?\"},\n",
        "        {\"npc1 dialogue\": \"No, but I've heard great things about it. What's it about?\",\n",
        "         \"npc2 dialogue\": \"It's an epic fantasy story with intricate world-building and compelling characters. You should definitely give it a try.\"},\n",
        "        {\"npc1 dialogue\": \"Sounds intriguing. I'll add it to my reading list. Thanks for the recommendation!\",\n",
        "         \"npc2 dialogue\": \"\"},\n",
        "        {\"npc1 dialogue\": \"I love cooking! Do you enjoy cooking too, James?\",\n",
        "         \"npc2 dialogue\": \"Yeah, cooking is one of my favorite hobbies. I've been experimenting with different recipes lately.\"},\n",
        "        {\"npc1 dialogue\": \"That's awesome. Do you have any favorite dishes you like to cook?\",\n",
        "         \"npc2 dialogue\": \"I really enjoy making homemade pasta from scratch. It's a bit time-consuming, but the end result is so worth it.\"},\n",
        "        {\"npc1 dialogue\": \"Homemade pasta sounds delicious. I've always wanted to try making it myself. Do you have any tips?\",\n",
        "         \"npc2 dialogue\": \"Definitely! I can show you some techniques sometime if you're interested.\"},\n",
        "        {\"npc1 dialogue\": \"Hey Sarah, have you been keeping up with your fitness routine?\",\n",
        "         \"npc2 dialogue\": \"I've been trying to, but it's been challenging lately. Do you have any tips for staying motivated?\"},\n",
        "        {\"npc1 dialogue\": \"Setting specific goals and tracking your progress can help. I also find that having a workout buddy or joining group classes can be motivating.\",\n",
        "         \"npc2 dialogue\": \"That makes sense. I'll try incorporating those strategies into my routine. Thanks for the advice!\"},\n",
        "        {\"npc1 dialogue\": \"So, what do you do for a living, Sarah?\",\n",
        "         \"npc2 dialogue\": \"I work as a graphic designer. It's pretty creative and I enjoy it most of the time.\"},\n",
        "        {\"npc1 dialogue\": \"That's cool. I'm currently studying computer science at the university. It's challenging, but I find it fascinating.\",\n",
        "         \"npc2 dialogue\": \"\"},\n",
        "        {\"npc1 dialogue\": \"Computer science sounds interesting. What made you choose that field?\",\n",
        "         \"npc2 dialogue\": \"I've always been interested in technology and programming. Plus, there are so many opportunities in the tech industry.\"},\n",
        "        {\"npc1 dialogue\": \"Hey James, have you done much traveling?\",\n",
        "         \"npc2 dialogue\": \"Yeah, I've been fortunate enough to visit a few countries. My favorite so far has been Japan. The culture and food were amazing.\"},\n",
        "        {\"npc1 dialogue\": \"Japan sounds incredible. I've always wanted to go there. What was your favorite part of the trip?\",\n",
        "         \"npc2 dialogue\": \"Definitely exploring the bustling streets of Tokyo. There's so much energy and excitement everywhere you go.\"},\n",
        "        {\"npc1 dialogue\": \"That sounds amazing. I'll have to add it to my bucket list.\",\n",
        "         \"npc2 dialogue\": \"\"},\n",
        "        {\"npc1 dialogue\": \"Hey, have you tried that new coffee shop down the street?\",\n",
        "         \"npc2 dialogue\": \"Yeah, I went there yesterday. The coffee was great, and they have a cozy atmosphere.\"},\n",
        "        {\"npc1 dialogue\": \"Sounds perfect. I'll have to check it out sometime.\",\n",
        "         \"npc2 dialogue\": \"\"},\n",
        "        {\"npc1 dialogue\": \"I'm thinking of adopting a pet. Do you have any pets?\",\n",
        "         \"npc2 dialogue\": \"Yeah, I have a cat named Luna. She's adorable.\"},\n",
        "        {\"npc1 dialogue\": \"Aw, I love cats! They're so independent. How's Luna doing?\",\n",
        "         \"npc2 dialogue\": \"She's doing well. She loves lounging in the sun and chasing after toys.\"},\n",
        "        {\"npc1 dialogue\": \"That sounds delightful. Maybe I'll get a cat too.\",\n",
        "         \"npc2 dialogue\": \"\"},\n",
        "        {\"npc1 dialogue\": \"I'm so tired today. I couldn't sleep well last night.\",\n",
        "         \"npc2 dialogue\": \"Oh no, that's rough. Have you tried any relaxation techniques before bed?\"},\n",
        "        {\"npc1 dialogue\": \"Yeah, I've been practicing meditation, but it hasn't been very effective lately.\",\n",
        "         \"npc2 dialogue\": \"Maybe you could try drinking some herbal tea or reading a book before bed. That might help.\"},\n",
        "        {\"npc1 dialogue\": \"Thanks, I'll give that a try. Hopefully, it'll help me sleep better tonight.\",\n",
        "         \"npc2 dialogue\": \"\"},\n",
        "        {\"npc1 dialogue\": \"Hey, do you want to grab lunch together later?\",\n",
        "         \"npc2 dialogue\": \"Sure, I'd love to! Any preferences on where to go?\"},\n",
        "        {\"npc1 dialogue\": \"I was thinking of trying out that new Italian restaurant downtown.\",\n",
        "         \"npc2 dialogue\": \"Sounds good to me. I've heard great things about their pasta dishes.\"},\n",
        "        {\"npc1 dialogue\": \"Great, let's meet there at 12:30.\",\n",
        "         \"npc2 dialogue\": \"\"}\n",
        "    ],\n",
        "    \"validation\": [\n",
        "         {\"npc1 dialogue\": \"I'm so excited for the concert next weekend!\",\n",
        "         \"npc2 dialogue\": \"Me too! I've been waiting for this for months.\"},\n",
        "        {\"npc1 dialogue\": \"Do you know if there will be any food vendors at the venue?\",\n",
        "         \"npc2 dialogue\": \"I'm not sure, but we can always grab dinner beforehand.\"},\n",
        "        {\"npc1 dialogue\": \"That's a good idea. I can't wait to dance the night away!\",\n",
        "         \"npc2 dialogue\": \"\"},\n",
        "        {\"npc1 dialogue\": \"Have you been watching any good TV shows lately?\",\n",
        "         \"npc2 dialogue\": \"I just finished binge-watching a crime thriller series. It was so suspenseful!\"},\n",
        "        {\"npc1 dialogue\": \"I love crime shows. Do you have any recommendations?\",\n",
        "         \"npc2 dialogue\": \"You should definitely check out 'Mindhunter' on Netflix. It's brilliant.\"},\n",
        "        {\"npc1 dialogue\": \"Thanks, I'll add it to my watchlist. I'm always looking for new shows to watch.\",\n",
        "         \"npc2 dialogue\": \"\"},\n",
        "        {\"npc1 dialogue\": \"I'm thinking of redecorating my apartment. Do you have any interior design tips?\",\n",
        "         \"npc2 dialogue\": \"I'm no expert, but I find that adding plants and colorful accents can liven up a space.\"},\n",
        "        {\"npc1 dialogue\": \"That's a great idea. I've been wanting to add more greenery to my place.\",\n",
        "         \"npc2 dialogue\": \"\"},\n",
        "        {\"npc1 dialogue\": \"Hey, have you heard about the new fitness class at the gym?\",\n",
        "         \"npc2 dialogue\": \"Yeah, I saw the flyers. It looks like a fun way to stay in shape.\"},\n",
        "        {\"npc1 dialogue\": \"I'm thinking of giving it a try. Want to join me?\",\n",
        "         \"npc2 dialogue\": \"Sure, I'm always up for trying something new!\"},\n",
        "        {\"npc1 dialogue\": \"Awesome, let's sign up for the next class together.\",\n",
        "         \"npc2 dialogue\": \"\"},\n",
        "    ],\n",
        "    \"test\": [\n",
        "        {\"npc1 dialogue\": \"Do you know if there are any community events happening this weekend?\",\n",
        "         \"npc2 dialogue\": \"I think there's a farmer's market in the park on Saturday.\"},\n",
        "        {\"npc1 dialogue\": \"That sounds like a lovely way to spend the day. I'll definitely check it out.\",\n",
        "         \"npc2 dialogue\": \"\"},\n",
        "        {\"npc1 dialogue\": \"I'm craving something sweet. Do you want to go get ice cream?\",\n",
        "         \"npc2 dialogue\": \"That sounds delightful! There's a new ice cream parlor that just opened downtown.\"},\n",
        "        {\"npc1 dialogue\": \"Let's go there and indulge in some delicious treats.\",\n",
        "         \"npc2 dialogue\": \"\"},\n",
        "        {\"npc1 dialogue\": \"I'm feeling a bit stressed out lately. How do you manage stress?\",\n",
        "         \"npc2 dialogue\": \"I find that taking short breaks throughout the day and practicing mindfulness exercises help.\"},\n",
        "        {\"npc1 dialogue\": \"I'll give that a try. Thanks for the advice!\",\n",
        "         \"npc2 dialogue\": \"\"},\n",
        "        {\"npc1 dialogue\": \"Do you have any plans for the weekend?\",\n",
        "         \"npc2 dialogue\": \"I'm thinking of going for a hike on Saturday and having a movie night with friends on Sunday.\"},\n",
        "        {\"npc1 dialogue\": \"That sounds like a fun weekend! I might join you for the hike if that's okay.\",\n",
        "         \"npc2 dialogue\": \"Of course, the more the merrier!\"},\n",
        "        {\"npc1 dialogue\": \"Great, I'll bring some snacks for the hike.\",\n",
        "         \"npc2 dialogue\": \"\"},\n",
        "        {\"npc1 dialogue\": \"I've been wanting to learn a new skill. Do you have any suggestions?\",\n",
        "         \"npc2 dialogue\": \"You could try learning a musical instrument or taking up painting.\"},\n",
        "        {\"npc1 dialogue\": \"I've always been interested in playing the guitar. Maybe I'll give it a shot.\",\n",
        "         \"npc2 dialogue\": \"\"},\n",
        "        {\"npc1 dialogue\": \"I'm thinking of going on a road trip next month. Do you want to join?\",\n",
        "         \"npc2 dialogue\": \"That sounds like an adventure! Where are you thinking of going?\"},\n",
        "        {\"npc1 dialogue\": \"I haven't decided yet, but I'm open to suggestions.\",\n",
        "         \"npc2 dialogue\": \"We could explore the nearby national parks or visit some historic towns.\"}\n",
        "    ]\n",
        "}\n",
        "\n",
        "\n"
      ],
      "metadata": {
        "id": "MFVYhhbjvOkU"
      },
      "id": "MFVYhhbjvOkU",
      "execution_count": 12,
      "outputs": []
    },
    {
      "cell_type": "code",
      "execution_count": 45,
      "id": "9b8aa524-4dcc-4898-a3b0-a294a6987689",
      "metadata": {
        "tags": [],
        "id": "9b8aa524-4dcc-4898-a3b0-a294a6987689"
      },
      "outputs": [],
      "source": [
        "\n",
        "DEFAULT_SYSTEM_PROMPT = \"\"\"\n",
        "In a dialogue between two NPCs, NPC1 initiates with a statement. Please generate NPC2's response.\n",
        "\"\"\".strip()\n",
        "\n",
        "\n",
        "def generate_training_prompt(\n",
        "    npc1: str, npc2: str, system_prompt: str = DEFAULT_SYSTEM_PROMPT\n",
        ") -> str:\n",
        "    return f\"\"\"### Instruction: {system_prompt}\n",
        "\n",
        "### Input NPC1:\n",
        "{npc1.strip()}\n",
        "\n",
        "### Response NPC2:\n",
        "{npc2}\n",
        "\"\"\".strip()"
      ]
    },
    {
      "cell_type": "code",
      "source": [
        "def generate_text(data_point):\n",
        "\n",
        "    return {\n",
        "        \"npc1\": data_point[\"npc1 dialogue\"],\n",
        "        \"npc2\": data_point[\"npc2 dialogue\"],\n",
        "        \"text\": generate_training_prompt(data_point[\"npc1 dialogue\"], data_point[\"npc2 dialogue\"]),\n",
        "    }"
      ],
      "metadata": {
        "id": "bj1TCUNHzBKx"
      },
      "id": "bj1TCUNHzBKx",
      "execution_count": 37,
      "outputs": []
    },
    {
      "cell_type": "code",
      "source": [
        "example = generate_text(npc_dataset[\"train\"][0])\n",
        "example"
      ],
      "metadata": {
        "colab": {
          "base_uri": "https://localhost:8080/"
        },
        "id": "eL_PB8TAv5tF",
        "outputId": "eaab27cc-20ee-4be5-ef45-edb1705b25a0"
      },
      "id": "eL_PB8TAv5tF",
      "execution_count": 46,
      "outputs": [
        {
          "output_type": "execute_result",
          "data": {
            "text/plain": [
              "{'npc1': \"Hi, I'm Sarah. I just moved into the building yesterday.\",\n",
              " 'npc2': \"Oh, nice to meet you, Sarah! I'm James. Welcome to the building. How was your move-in?\",\n",
              " 'text': \"### Instruction: In a dialogue between two NPCs, NPC1 initiates with a statement. Please generate NPC2's response.\\n\\n### Input NPC1:\\nHi, I'm Sarah. I just moved into the building yesterday.\\n\\n### Response NPC2:\\nOh, nice to meet you, Sarah! I'm James. Welcome to the building. How was your move-in?\"}"
            ]
          },
          "metadata": {},
          "execution_count": 46
        }
      ]
    },
    {
      "cell_type": "code",
      "execution_count": 47,
      "id": "c8e62627-0e4c-42ef-a82e-843b5afb9a44",
      "metadata": {
        "colab": {
          "base_uri": "https://localhost:8080/",
          "height": 35
        },
        "id": "c8e62627-0e4c-42ef-a82e-843b5afb9a44",
        "outputId": "a8813613-11ae-4709-8a7b-c117db7bbad4"
      },
      "outputs": [
        {
          "output_type": "execute_result",
          "data": {
            "text/plain": [
              "'\\ndataset[\"train\"] = process_dataset(dataset[\"train\"])\\ndataset[\"validation\"] = process_dataset(dataset[\"validation\"])\\n'"
            ],
            "application/vnd.google.colaboratory.intrinsic+json": {
              "type": "string"
            }
          },
          "metadata": {},
          "execution_count": 47
        }
      ],
      "source": [
        "\"\"\"\n",
        "dataset[\"train\"] = process_dataset(dataset[\"train\"])\n",
        "dataset[\"validation\"] = process_dataset(dataset[\"validation\"])\n",
        "\"\"\""
      ]
    },
    {
      "cell_type": "code",
      "execution_count": 50,
      "id": "e97a0d5e-312f-4000-8dbb-58a459816420",
      "metadata": {
        "colab": {
          "base_uri": "https://localhost:8080/"
        },
        "id": "e97a0d5e-312f-4000-8dbb-58a459816420",
        "outputId": "c53daac4-dff5-4041-a2e5-427b4a9696cc"
      },
      "outputs": [
        {
          "output_type": "execute_result",
          "data": {
            "text/plain": [
              "{'npc1': 'It was hectic but exciting. Still getting used to the new place.',\n",
              " 'npc2': \"Well, if you need anything, feel free to ask. We're all pretty friendly around here.\",\n",
              " 'text': \"### Instruction: In a dialogue between two NPCs, NPC1 initiates with a statement. Please generate NPC2's response.\\n\\n### Input NPC1:\\nIt was hectic but exciting. Still getting used to the new place.\\n\\n### Response NPC2:\\nWell, if you need anything, feel free to ask. We're all pretty friendly around here.\"}"
            ]
          },
          "metadata": {},
          "execution_count": 50
        }
      ],
      "source": [
        "example = generate_text(npc_dataset[\"train\"][1])\n",
        "example"
      ]
    },
    {
      "cell_type": "code",
      "execution_count": 51,
      "id": "a90dd72c-b7d4-465d-8f1b-a422c5bfd147",
      "metadata": {
        "id": "a90dd72c-b7d4-465d-8f1b-a422c5bfd147"
      },
      "outputs": [],
      "source": [
        "def create_model_and_tokenizer():\n",
        "    bnb_config = BitsAndBytesConfig(\n",
        "        load_in_4bit=True,\n",
        "        bnb_4bit_quant_type=\"nf4\",\n",
        "        bnb_4bit_compute_dtype=torch.float16,\n",
        "    )\n",
        "\n",
        "    model = AutoModelForCausalLM.from_pretrained(\n",
        "        MODEL_NAME,\n",
        "        use_safetensors=True,\n",
        "        quantization_config=bnb_config,\n",
        "        trust_remote_code=True,\n",
        "        device_map=\"auto\",\n",
        "    )\n",
        "\n",
        "    tokenizer = AutoTokenizer.from_pretrained(MODEL_NAME)\n",
        "    tokenizer.pad_token = tokenizer.eos_token\n",
        "    tokenizer.padding_side = \"right\"\n",
        "\n",
        "    return model, tokenizer"
      ]
    },
    {
      "cell_type": "code",
      "execution_count": 52,
      "id": "aebab817-bba3-4680-97d4-2c77f351ba44",
      "metadata": {
        "colab": {
          "base_uri": "https://localhost:8080/",
          "height": 477
        },
        "id": "aebab817-bba3-4680-97d4-2c77f351ba44",
        "outputId": "c4a3ef94-c113-469b-9701-27a51e99ad05"
      },
      "outputs": [
        {
          "output_type": "error",
          "ename": "PackageNotFoundError",
          "evalue": "No package metadata was found for bitsandbytes",
          "traceback": [
            "\u001b[0;31m---------------------------------------------------------------------------\u001b[0m",
            "\u001b[0;31mPackageNotFoundError\u001b[0m                      Traceback (most recent call last)",
            "\u001b[0;32m<ipython-input-52-6f32a132ddb0>\u001b[0m in \u001b[0;36m<cell line: 1>\u001b[0;34m()\u001b[0m\n\u001b[0;32m----> 1\u001b[0;31m \u001b[0mmodel\u001b[0m\u001b[0;34m,\u001b[0m \u001b[0mtokenizer\u001b[0m \u001b[0;34m=\u001b[0m \u001b[0mcreate_model_and_tokenizer\u001b[0m\u001b[0;34m(\u001b[0m\u001b[0;34m)\u001b[0m\u001b[0;34m\u001b[0m\u001b[0;34m\u001b[0m\u001b[0m\n\u001b[0m\u001b[1;32m      2\u001b[0m \u001b[0mmodel\u001b[0m\u001b[0;34m.\u001b[0m\u001b[0mconfig\u001b[0m\u001b[0;34m.\u001b[0m\u001b[0muse_cache\u001b[0m \u001b[0;34m=\u001b[0m \u001b[0;32mFalse\u001b[0m\u001b[0;34m\u001b[0m\u001b[0;34m\u001b[0m\u001b[0m\n",
            "\u001b[0;32m<ipython-input-51-b9e70ad6189e>\u001b[0m in \u001b[0;36mcreate_model_and_tokenizer\u001b[0;34m()\u001b[0m\n\u001b[1;32m      1\u001b[0m \u001b[0;32mdef\u001b[0m \u001b[0mcreate_model_and_tokenizer\u001b[0m\u001b[0;34m(\u001b[0m\u001b[0;34m)\u001b[0m\u001b[0;34m:\u001b[0m\u001b[0;34m\u001b[0m\u001b[0;34m\u001b[0m\u001b[0m\n\u001b[0;32m----> 2\u001b[0;31m     bnb_config = BitsAndBytesConfig(\n\u001b[0m\u001b[1;32m      3\u001b[0m         \u001b[0mload_in_4bit\u001b[0m\u001b[0;34m=\u001b[0m\u001b[0;32mTrue\u001b[0m\u001b[0;34m,\u001b[0m\u001b[0;34m\u001b[0m\u001b[0;34m\u001b[0m\u001b[0m\n\u001b[1;32m      4\u001b[0m         \u001b[0mbnb_4bit_quant_type\u001b[0m\u001b[0;34m=\u001b[0m\u001b[0;34m\"nf4\"\u001b[0m\u001b[0;34m,\u001b[0m\u001b[0;34m\u001b[0m\u001b[0;34m\u001b[0m\u001b[0m\n\u001b[1;32m      5\u001b[0m         \u001b[0mbnb_4bit_compute_dtype\u001b[0m\u001b[0;34m=\u001b[0m\u001b[0mtorch\u001b[0m\u001b[0;34m.\u001b[0m\u001b[0mfloat16\u001b[0m\u001b[0;34m,\u001b[0m\u001b[0;34m\u001b[0m\u001b[0;34m\u001b[0m\u001b[0m\n",
            "\u001b[0;32m/usr/local/lib/python3.10/dist-packages/transformers/utils/quantization_config.py\u001b[0m in \u001b[0;36m__init__\u001b[0;34m(self, load_in_8bit, load_in_4bit, llm_int8_threshold, llm_int8_skip_modules, llm_int8_enable_fp32_cpu_offload, llm_int8_has_fp16_weight, bnb_4bit_compute_dtype, bnb_4bit_quant_type, bnb_4bit_use_double_quant, **kwargs)\u001b[0m\n\u001b[1;32m    263\u001b[0m             \u001b[0;32mraise\u001b[0m \u001b[0mValueError\u001b[0m\u001b[0;34m(\u001b[0m\u001b[0;34m\"bnb_4bit_compute_dtype must be a string or a torch.dtype\"\u001b[0m\u001b[0;34m)\u001b[0m\u001b[0;34m\u001b[0m\u001b[0;34m\u001b[0m\u001b[0m\n\u001b[1;32m    264\u001b[0m \u001b[0;34m\u001b[0m\u001b[0m\n\u001b[0;32m--> 265\u001b[0;31m         \u001b[0mself\u001b[0m\u001b[0;34m.\u001b[0m\u001b[0mpost_init\u001b[0m\u001b[0;34m(\u001b[0m\u001b[0;34m)\u001b[0m\u001b[0;34m\u001b[0m\u001b[0;34m\u001b[0m\u001b[0m\n\u001b[0m\u001b[1;32m    266\u001b[0m \u001b[0;34m\u001b[0m\u001b[0m\n\u001b[1;32m    267\u001b[0m     \u001b[0;34m@\u001b[0m\u001b[0mproperty\u001b[0m\u001b[0;34m\u001b[0m\u001b[0;34m\u001b[0m\u001b[0m\n",
            "\u001b[0;32m/usr/local/lib/python3.10/dist-packages/transformers/utils/quantization_config.py\u001b[0m in \u001b[0;36mpost_init\u001b[0;34m(self)\u001b[0m\n\u001b[1;32m    309\u001b[0m             \u001b[0;32mraise\u001b[0m \u001b[0mValueError\u001b[0m\u001b[0;34m(\u001b[0m\u001b[0;34m\"bnb_4bit_use_double_quant must be a boolean\"\u001b[0m\u001b[0;34m)\u001b[0m\u001b[0;34m\u001b[0m\u001b[0;34m\u001b[0m\u001b[0m\n\u001b[1;32m    310\u001b[0m \u001b[0;34m\u001b[0m\u001b[0m\n\u001b[0;32m--> 311\u001b[0;31m         if self.load_in_4bit and not version.parse(importlib.metadata.version(\"bitsandbytes\")) >= version.parse(\n\u001b[0m\u001b[1;32m    312\u001b[0m             \u001b[0;34m\"0.39.0\"\u001b[0m\u001b[0;34m\u001b[0m\u001b[0;34m\u001b[0m\u001b[0m\n\u001b[1;32m    313\u001b[0m         ):\n",
            "\u001b[0;32m/usr/lib/python3.10/importlib/metadata/__init__.py\u001b[0m in \u001b[0;36mversion\u001b[0;34m(distribution_name)\u001b[0m\n\u001b[1;32m    994\u001b[0m         \u001b[0;34m\"Version\"\u001b[0m \u001b[0mmetadata\u001b[0m \u001b[0mkey\u001b[0m\u001b[0;34m.\u001b[0m\u001b[0;34m\u001b[0m\u001b[0;34m\u001b[0m\u001b[0m\n\u001b[1;32m    995\u001b[0m     \"\"\"\n\u001b[0;32m--> 996\u001b[0;31m     \u001b[0;32mreturn\u001b[0m \u001b[0mdistribution\u001b[0m\u001b[0;34m(\u001b[0m\u001b[0mdistribution_name\u001b[0m\u001b[0;34m)\u001b[0m\u001b[0;34m.\u001b[0m\u001b[0mversion\u001b[0m\u001b[0;34m\u001b[0m\u001b[0;34m\u001b[0m\u001b[0m\n\u001b[0m\u001b[1;32m    997\u001b[0m \u001b[0;34m\u001b[0m\u001b[0m\n\u001b[1;32m    998\u001b[0m \u001b[0;34m\u001b[0m\u001b[0m\n",
            "\u001b[0;32m/usr/lib/python3.10/importlib/metadata/__init__.py\u001b[0m in \u001b[0;36mdistribution\u001b[0;34m(distribution_name)\u001b[0m\n\u001b[1;32m    967\u001b[0m     \u001b[0;34m:\u001b[0m\u001b[0;32mreturn\u001b[0m\u001b[0;34m:\u001b[0m \u001b[0mA\u001b[0m\u001b[0;31m \u001b[0m\u001b[0;31m`\u001b[0m\u001b[0;31m`\u001b[0m\u001b[0mDistribution\u001b[0m\u001b[0;31m`\u001b[0m\u001b[0;31m`\u001b[0m \u001b[0minstance\u001b[0m \u001b[0;34m(\u001b[0m\u001b[0;32mor\u001b[0m \u001b[0msubclass\u001b[0m \u001b[0mthereof\u001b[0m\u001b[0;34m)\u001b[0m\u001b[0;34m.\u001b[0m\u001b[0;34m\u001b[0m\u001b[0;34m\u001b[0m\u001b[0m\n\u001b[1;32m    968\u001b[0m     \"\"\"\n\u001b[0;32m--> 969\u001b[0;31m     \u001b[0;32mreturn\u001b[0m \u001b[0mDistribution\u001b[0m\u001b[0;34m.\u001b[0m\u001b[0mfrom_name\u001b[0m\u001b[0;34m(\u001b[0m\u001b[0mdistribution_name\u001b[0m\u001b[0;34m)\u001b[0m\u001b[0;34m\u001b[0m\u001b[0;34m\u001b[0m\u001b[0m\n\u001b[0m\u001b[1;32m    970\u001b[0m \u001b[0;34m\u001b[0m\u001b[0m\n\u001b[1;32m    971\u001b[0m \u001b[0;34m\u001b[0m\u001b[0m\n",
            "\u001b[0;32m/usr/lib/python3.10/importlib/metadata/__init__.py\u001b[0m in \u001b[0;36mfrom_name\u001b[0;34m(cls, name)\u001b[0m\n\u001b[1;32m    546\u001b[0m                 \u001b[0;32mreturn\u001b[0m \u001b[0mdist\u001b[0m\u001b[0;34m\u001b[0m\u001b[0;34m\u001b[0m\u001b[0m\n\u001b[1;32m    547\u001b[0m         \u001b[0;32melse\u001b[0m\u001b[0;34m:\u001b[0m\u001b[0;34m\u001b[0m\u001b[0;34m\u001b[0m\u001b[0m\n\u001b[0;32m--> 548\u001b[0;31m             \u001b[0;32mraise\u001b[0m \u001b[0mPackageNotFoundError\u001b[0m\u001b[0;34m(\u001b[0m\u001b[0mname\u001b[0m\u001b[0;34m)\u001b[0m\u001b[0;34m\u001b[0m\u001b[0;34m\u001b[0m\u001b[0m\n\u001b[0m\u001b[1;32m    549\u001b[0m \u001b[0;34m\u001b[0m\u001b[0m\n\u001b[1;32m    550\u001b[0m     \u001b[0;34m@\u001b[0m\u001b[0mclassmethod\u001b[0m\u001b[0;34m\u001b[0m\u001b[0;34m\u001b[0m\u001b[0m\n",
            "\u001b[0;31mPackageNotFoundError\u001b[0m: No package metadata was found for bitsandbytes",
            "",
            "\u001b[0;31m---------------------------------------------------------------------------\u001b[0;32m\nNOTE: If your import is failing due to a missing package, you can\nmanually install dependencies using either !pip or !apt.\n\nTo view examples of installing some common dependencies, click the\n\"Open Examples\" button below.\n\u001b[0;31m---------------------------------------------------------------------------\u001b[0m\n"
          ],
          "errorDetails": {
            "actions": [
              {
                "action": "open_url",
                "actionText": "Open Examples",
                "url": "/notebooks/snippets/importing_libraries.ipynb"
              }
            ]
          }
        }
      ],
      "source": [
        "model, tokenizer = create_model_and_tokenizer()\n",
        "model.config.use_cache = False"
      ]
    },
    {
      "cell_type": "code",
      "execution_count": null,
      "id": "c49d1ae0-9da0-4527-b472-92def7e7df14",
      "metadata": {
        "id": "c49d1ae0-9da0-4527-b472-92def7e7df14"
      },
      "outputs": [],
      "source": [
        "model.config.quantization_config.to_dict()\n"
      ]
    },
    {
      "cell_type": "code",
      "execution_count": null,
      "id": "daf07200-2f9f-48ca-9877-1bd9546ad6ec",
      "metadata": {
        "id": "daf07200-2f9f-48ca-9877-1bd9546ad6ec"
      },
      "outputs": [],
      "source": [
        "lora_r = 16\n",
        "lora_alpha = 64\n",
        "lora_dropout = 0.1\n",
        "lora_target_modules = [\n",
        "    \"q_proj\",\n",
        "    \"up_proj\",\n",
        "    \"o_proj\",\n",
        "    \"k_proj\",\n",
        "    \"down_proj\",\n",
        "    \"gate_proj\",\n",
        "    \"v_proj\",\n",
        "]\n",
        "\n",
        "\n",
        "peft_config = LoraConfig(\n",
        "    r=lora_r,\n",
        "    lora_alpha=lora_alpha,\n",
        "    lora_dropout=lora_dropout,\n",
        "    target_modules=lora_target_modules,\n",
        "    bias=\"none\",\n",
        "    task_type=\"CAUSAL_LM\",\n",
        ")"
      ]
    },
    {
      "cell_type": "code",
      "execution_count": null,
      "id": "2c0ff888-76dd-4670-b778-65539c924b65",
      "metadata": {
        "id": "2c0ff888-76dd-4670-b778-65539c924b65"
      },
      "outputs": [],
      "source": [
        "OUTPUT_DIR = \"experiments\"\n",
        "\n",
        "%load_ext tensorboard\n",
        "%tensorboard --logdir experiments/runs"
      ]
    },
    {
      "cell_type": "code",
      "execution_count": null,
      "id": "29548ab6-4d21-448d-b69e-18368b5ee431",
      "metadata": {
        "id": "29548ab6-4d21-448d-b69e-18368b5ee431"
      },
      "outputs": [],
      "source": [
        "training_arguments = TrainingArguments(\n",
        "    per_device_train_batch_size=4,\n",
        "    gradient_accumulation_steps=4,\n",
        "    optim=\"paged_adamw_32bit\",\n",
        "    logging_steps=1,\n",
        "    learning_rate=1e-4,\n",
        "    fp16=True,\n",
        "    max_grad_norm=0.3,\n",
        "    num_train_epochs=2,\n",
        "    evaluation_strategy=\"steps\",\n",
        "    eval_steps=0.2,\n",
        "    warmup_ratio=0.05,\n",
        "    save_strategy=\"epoch\",\n",
        "    group_by_length=True,\n",
        "    output_dir=OUTPUT_DIR,\n",
        "    report_to=\"tensorboard\",\n",
        "    save_safetensors=True,\n",
        "    lr_scheduler_type=\"cosine\",\n",
        "    seed=42,\n",
        ")"
      ]
    },
    {
      "cell_type": "code",
      "execution_count": null,
      "id": "e4820f7f-7953-44ca-ba60-236ae50a691b",
      "metadata": {
        "id": "e4820f7f-7953-44ca-ba60-236ae50a691b"
      },
      "outputs": [],
      "source": [
        "trainer = SFTTrainer(\n",
        "    model=model,\n",
        "    train_dataset=dataset[\"train\"],\n",
        "    eval_dataset=dataset[\"validation\"],\n",
        "    peft_config=peft_config,\n",
        "    dataset_text_field=\"text\",\n",
        "    max_seq_length=4096,\n",
        "    tokenizer=tokenizer,\n",
        "    args=training_arguments,\n",
        ")"
      ]
    },
    {
      "cell_type": "code",
      "execution_count": null,
      "id": "fd1bc48a-5434-470a-abf1-9a4b569770d5",
      "metadata": {
        "id": "fd1bc48a-5434-470a-abf1-9a4b569770d5"
      },
      "outputs": [],
      "source": [
        "trainer.train()"
      ]
    },
    {
      "cell_type": "code",
      "execution_count": null,
      "id": "970d11ce-f552-4447-b6bf-30da23114e19",
      "metadata": {
        "id": "970d11ce-f552-4447-b6bf-30da23114e19"
      },
      "outputs": [],
      "source": [
        "trainer.save_model()"
      ]
    },
    {
      "cell_type": "code",
      "execution_count": null,
      "id": "52da04ea-9a84-46b9-9b10-31ec5e7d3455",
      "metadata": {
        "id": "52da04ea-9a84-46b9-9b10-31ec5e7d3455"
      },
      "outputs": [],
      "source": [
        "trainer.model"
      ]
    },
    {
      "cell_type": "code",
      "execution_count": null,
      "id": "228b2543-4940-4246-901c-4ca57ba0c8bb",
      "metadata": {
        "id": "228b2543-4940-4246-901c-4ca57ba0c8bb"
      },
      "outputs": [],
      "source": [
        "from peft import AutoPeftModelForCausalLM\n",
        "\n",
        "trained_model = AutoPeftModelForCausalLM.from_pretrained(\n",
        "    OUTPUT_DIR,\n",
        "    low_cpu_mem_usage=True,\n",
        ")\n",
        "\n",
        "merged_model = model.merge_and_unload()\n",
        "merged_model.save_pretrained(\"merged_model\", safe_serialization=True)\n",
        "tokenizer.save_pretrained(\"merged_model\")"
      ]
    },
    {
      "cell_type": "code",
      "execution_count": null,
      "id": "78a35e3b-d4f5-4d2d-a2cc-5f4e210a3702",
      "metadata": {
        "id": "78a35e3b-d4f5-4d2d-a2cc-5f4e210a3702"
      },
      "outputs": [],
      "source": [
        "model = PeftModel.from_pretrained(model, OUTPUT_DIR)\n"
      ]
    }
  ],
  "metadata": {
    "kernelspec": {
      "display_name": "Python 3 (ipykernel)",
      "language": "python",
      "name": "python3"
    },
    "language_info": {
      "codemirror_mode": {
        "name": "ipython",
        "version": 3
      },
      "file_extension": ".py",
      "mimetype": "text/x-python",
      "name": "python",
      "nbconvert_exporter": "python",
      "pygments_lexer": "ipython3",
      "version": "3.11.4"
    },
    "colab": {
      "provenance": []
    }
  },
  "nbformat": 4,
  "nbformat_minor": 5
}